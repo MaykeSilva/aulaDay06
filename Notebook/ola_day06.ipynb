{
 "cells": [
  {
   "cell_type": "code",
   "execution_count": 1,
   "metadata": {},
   "outputs": [
    {
     "name": "stdout",
     "output_type": "stream",
     "text": [
      "olá Day 06\n"
     ]
    }
   ],
   "source": [
    "print('olá Day 06')"
   ]
  }
 ],
 "metadata": {
  "interpreter": {
   "hash": "d147db1497c7b0a2e0923979629fd615caeb7859b018ab3a8e2836d654f56550"
  },
  "kernelspec": {
   "display_name": "Python 3.8.0 64-bit",
   "language": "python",
   "name": "python3"
  },
  "language_info": {
   "codemirror_mode": {
    "name": "ipython",
    "version": 3
   },
   "file_extension": ".py",
   "mimetype": "text/x-python",
   "name": "python",
   "nbconvert_exporter": "python",
   "pygments_lexer": "ipython3",
   "version": "3.8.0"
  },
  "orig_nbformat": 4
 },
 "nbformat": 4,
 "nbformat_minor": 2
}
